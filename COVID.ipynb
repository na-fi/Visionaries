{
 "cells": [
  {
   "cell_type": "code",
   "execution_count": 7,
   "metadata": {
    "executionInfo": {
     "elapsed": 5159,
     "status": "ok",
     "timestamp": 1648366494581,
     "user": {
      "displayName": "陳奕帆",
      "photoUrl": "https://lh3.googleusercontent.com/a/default-user=s64",
      "userId": "09464216318732581687"
     },
     "user_tz": -480
    },
    "id": "Uu5nB6LqlukY"
   },
   "outputs": [],
   "source": [
    "import tensorflow as tf\n",
    "from tensorflow import keras\n",
    "import matplotlib.pyplot as plt\n",
    "import pandas as pd\n",
    "import numpy as np\n",
    "import sklearn\n",
    "\n",
    "import math\n",
    "from sklearn.preprocessing import MinMaxScaler\n",
    "import pywt\n",
    "from scipy.signal import medfilt"
   ]
  },
  {
   "cell_type": "code",
   "execution_count": 8,
   "metadata": {
    "scrolled": true
   },
   "outputs": [],
   "source": [
    "def denoise(data):\n",
    "    #小波变换\n",
    "    coeffs = pywt.wavedec(data=data, wavelet='db5', level=9)\n",
    "    cA9, cD9, cD8, cD7, cD6, cD5, cD4, cD3, cD2, cD1 = coeffs\n",
    "\n",
    "    # 阈值去噪\n",
    "    threshold = (np.median(np.abs(cD1)) / 0.6745) * (np.sqrt(2 * np.log(len(cD1))))\n",
    "    cD1.fill(0)\n",
    "    cD2.fill(0)\n",
    "    for i in range(1, len(coeffs) - 2):\n",
    "        coeffs[i] = pywt.threshold(coeffs[i], threshold)\n",
    "\n",
    "    # 小波反变换,获取去噪后的信号\n",
    "    rdata = pywt.waverec(coeffs=coeffs, wavelet='db5')\n",
    "    return rdata"
   ]
  },
  {
   "cell_type": "code",
   "execution_count": 9,
   "metadata": {},
   "outputs": [
    {
     "data": {
      "text/html": [
       "<div>\n",
       "<style scoped>\n",
       "    .dataframe tbody tr th:only-of-type {\n",
       "        vertical-align: middle;\n",
       "    }\n",
       "\n",
       "    .dataframe tbody tr th {\n",
       "        vertical-align: top;\n",
       "    }\n",
       "\n",
       "    .dataframe thead th {\n",
       "        text-align: right;\n",
       "    }\n",
       "</style>\n",
       "<table border=\"1\" class=\"dataframe\">\n",
       "  <thead>\n",
       "    <tr style=\"text-align: right;\">\n",
       "      <th></th>\n",
       "      <th>1</th>\n",
       "      <th>2</th>\n",
       "      <th>3</th>\n",
       "      <th>4</th>\n",
       "      <th>5</th>\n",
       "      <th>6</th>\n",
       "      <th>7</th>\n",
       "      <th>8</th>\n",
       "      <th>9</th>\n",
       "      <th>10</th>\n",
       "      <th>...</th>\n",
       "      <th>243569</th>\n",
       "      <th>243570</th>\n",
       "      <th>243571</th>\n",
       "      <th>243572</th>\n",
       "      <th>243573</th>\n",
       "      <th>243574</th>\n",
       "      <th>243575</th>\n",
       "      <th>243576</th>\n",
       "      <th>243577</th>\n",
       "      <th>243578</th>\n",
       "    </tr>\n",
       "  </thead>\n",
       "  <tbody>\n",
       "    <tr>\n",
       "      <th>0</th>\n",
       "      <td>-2358.0</td>\n",
       "      <td>-2232.0</td>\n",
       "      <td>-2205.0</td>\n",
       "      <td>-2232.0</td>\n",
       "      <td>-2201.0</td>\n",
       "      <td>-2076.0</td>\n",
       "      <td>-2004.0</td>\n",
       "      <td>-2105.0</td>\n",
       "      <td>-2328.0</td>\n",
       "      <td>-2459.0</td>\n",
       "      <td>...</td>\n",
       "      <td>-408.0</td>\n",
       "      <td>-330.0</td>\n",
       "      <td>-315.0</td>\n",
       "      <td>-343.0</td>\n",
       "      <td>-375.0</td>\n",
       "      <td>-345.0</td>\n",
       "      <td>-262.0</td>\n",
       "      <td>-189.0</td>\n",
       "      <td>-208.0</td>\n",
       "      <td>-294.0</td>\n",
       "    </tr>\n",
       "    <tr>\n",
       "      <th>1</th>\n",
       "      <td>2645.0</td>\n",
       "      <td>2661.0</td>\n",
       "      <td>2553.0</td>\n",
       "      <td>2459.0</td>\n",
       "      <td>2474.0</td>\n",
       "      <td>2578.0</td>\n",
       "      <td>2667.0</td>\n",
       "      <td>2707.0</td>\n",
       "      <td>2733.0</td>\n",
       "      <td>2755.0</td>\n",
       "      <td>...</td>\n",
       "      <td>NaN</td>\n",
       "      <td>NaN</td>\n",
       "      <td>NaN</td>\n",
       "      <td>NaN</td>\n",
       "      <td>NaN</td>\n",
       "      <td>NaN</td>\n",
       "      <td>NaN</td>\n",
       "      <td>NaN</td>\n",
       "      <td>NaN</td>\n",
       "      <td>NaN</td>\n",
       "    </tr>\n",
       "    <tr>\n",
       "      <th>2</th>\n",
       "      <td>2183.0</td>\n",
       "      <td>1986.0</td>\n",
       "      <td>1719.0</td>\n",
       "      <td>1634.0</td>\n",
       "      <td>1724.0</td>\n",
       "      <td>1760.0</td>\n",
       "      <td>1590.0</td>\n",
       "      <td>1291.0</td>\n",
       "      <td>1124.0</td>\n",
       "      <td>1237.0</td>\n",
       "      <td>...</td>\n",
       "      <td>NaN</td>\n",
       "      <td>NaN</td>\n",
       "      <td>NaN</td>\n",
       "      <td>NaN</td>\n",
       "      <td>NaN</td>\n",
       "      <td>NaN</td>\n",
       "      <td>NaN</td>\n",
       "      <td>NaN</td>\n",
       "      <td>NaN</td>\n",
       "      <td>NaN</td>\n",
       "    </tr>\n",
       "    <tr>\n",
       "      <th>3</th>\n",
       "      <td>1218.0</td>\n",
       "      <td>1094.0</td>\n",
       "      <td>845.0</td>\n",
       "      <td>780.0</td>\n",
       "      <td>952.0</td>\n",
       "      <td>1128.0</td>\n",
       "      <td>1063.0</td>\n",
       "      <td>844.0</td>\n",
       "      <td>706.0</td>\n",
       "      <td>762.0</td>\n",
       "      <td>...</td>\n",
       "      <td>NaN</td>\n",
       "      <td>NaN</td>\n",
       "      <td>NaN</td>\n",
       "      <td>NaN</td>\n",
       "      <td>NaN</td>\n",
       "      <td>NaN</td>\n",
       "      <td>NaN</td>\n",
       "      <td>NaN</td>\n",
       "      <td>NaN</td>\n",
       "      <td>NaN</td>\n",
       "    </tr>\n",
       "    <tr>\n",
       "      <th>4</th>\n",
       "      <td>230.0</td>\n",
       "      <td>123.0</td>\n",
       "      <td>150.0</td>\n",
       "      <td>268.0</td>\n",
       "      <td>410.0</td>\n",
       "      <td>463.0</td>\n",
       "      <td>330.0</td>\n",
       "      <td>34.0</td>\n",
       "      <td>-279.0</td>\n",
       "      <td>-421.0</td>\n",
       "      <td>...</td>\n",
       "      <td>NaN</td>\n",
       "      <td>NaN</td>\n",
       "      <td>NaN</td>\n",
       "      <td>NaN</td>\n",
       "      <td>NaN</td>\n",
       "      <td>NaN</td>\n",
       "      <td>NaN</td>\n",
       "      <td>NaN</td>\n",
       "      <td>NaN</td>\n",
       "      <td>NaN</td>\n",
       "    </tr>\n",
       "    <tr>\n",
       "      <th>5</th>\n",
       "      <td>1808.0</td>\n",
       "      <td>1630.0</td>\n",
       "      <td>1453.0</td>\n",
       "      <td>1382.0</td>\n",
       "      <td>1477.0</td>\n",
       "      <td>1697.0</td>\n",
       "      <td>1907.0</td>\n",
       "      <td>1903.0</td>\n",
       "      <td>1655.0</td>\n",
       "      <td>1387.0</td>\n",
       "      <td>...</td>\n",
       "      <td>NaN</td>\n",
       "      <td>NaN</td>\n",
       "      <td>NaN</td>\n",
       "      <td>NaN</td>\n",
       "      <td>NaN</td>\n",
       "      <td>NaN</td>\n",
       "      <td>NaN</td>\n",
       "      <td>NaN</td>\n",
       "      <td>NaN</td>\n",
       "      <td>NaN</td>\n",
       "    </tr>\n",
       "    <tr>\n",
       "      <th>6</th>\n",
       "      <td>1863.0</td>\n",
       "      <td>1502.0</td>\n",
       "      <td>1435.0</td>\n",
       "      <td>1636.0</td>\n",
       "      <td>1811.0</td>\n",
       "      <td>1697.0</td>\n",
       "      <td>1352.0</td>\n",
       "      <td>1094.0</td>\n",
       "      <td>1192.0</td>\n",
       "      <td>1576.0</td>\n",
       "      <td>...</td>\n",
       "      <td>NaN</td>\n",
       "      <td>NaN</td>\n",
       "      <td>NaN</td>\n",
       "      <td>NaN</td>\n",
       "      <td>NaN</td>\n",
       "      <td>NaN</td>\n",
       "      <td>NaN</td>\n",
       "      <td>NaN</td>\n",
       "      <td>NaN</td>\n",
       "      <td>NaN</td>\n",
       "    </tr>\n",
       "    <tr>\n",
       "      <th>7</th>\n",
       "      <td>-2049.0</td>\n",
       "      <td>-1764.0</td>\n",
       "      <td>-1585.0</td>\n",
       "      <td>-1721.0</td>\n",
       "      <td>-2015.0</td>\n",
       "      <td>-2172.0</td>\n",
       "      <td>-2083.0</td>\n",
       "      <td>-1902.0</td>\n",
       "      <td>-1805.0</td>\n",
       "      <td>-1851.0</td>\n",
       "      <td>...</td>\n",
       "      <td>NaN</td>\n",
       "      <td>NaN</td>\n",
       "      <td>NaN</td>\n",
       "      <td>NaN</td>\n",
       "      <td>NaN</td>\n",
       "      <td>NaN</td>\n",
       "      <td>NaN</td>\n",
       "      <td>NaN</td>\n",
       "      <td>NaN</td>\n",
       "      <td>NaN</td>\n",
       "    </tr>\n",
       "  </tbody>\n",
       "</table>\n",
       "<p>8 rows × 243578 columns</p>\n",
       "</div>"
      ],
      "text/plain": [
       "   1       2       3       4       5       6       7       8       9       \\\n",
       "0 -2358.0 -2232.0 -2205.0 -2232.0 -2201.0 -2076.0 -2004.0 -2105.0 -2328.0   \n",
       "1  2645.0  2661.0  2553.0  2459.0  2474.0  2578.0  2667.0  2707.0  2733.0   \n",
       "2  2183.0  1986.0  1719.0  1634.0  1724.0  1760.0  1590.0  1291.0  1124.0   \n",
       "3  1218.0  1094.0   845.0   780.0   952.0  1128.0  1063.0   844.0   706.0   \n",
       "4   230.0   123.0   150.0   268.0   410.0   463.0   330.0    34.0  -279.0   \n",
       "5  1808.0  1630.0  1453.0  1382.0  1477.0  1697.0  1907.0  1903.0  1655.0   \n",
       "6  1863.0  1502.0  1435.0  1636.0  1811.0  1697.0  1352.0  1094.0  1192.0   \n",
       "7 -2049.0 -1764.0 -1585.0 -1721.0 -2015.0 -2172.0 -2083.0 -1902.0 -1805.0   \n",
       "\n",
       "   10      ...  243569  243570  243571  243572  243573  243574  243575  \\\n",
       "0 -2459.0  ...  -408.0  -330.0  -315.0  -343.0  -375.0  -345.0  -262.0   \n",
       "1  2755.0  ...     NaN     NaN     NaN     NaN     NaN     NaN     NaN   \n",
       "2  1237.0  ...     NaN     NaN     NaN     NaN     NaN     NaN     NaN   \n",
       "3   762.0  ...     NaN     NaN     NaN     NaN     NaN     NaN     NaN   \n",
       "4  -421.0  ...     NaN     NaN     NaN     NaN     NaN     NaN     NaN   \n",
       "5  1387.0  ...     NaN     NaN     NaN     NaN     NaN     NaN     NaN   \n",
       "6  1576.0  ...     NaN     NaN     NaN     NaN     NaN     NaN     NaN   \n",
       "7 -1851.0  ...     NaN     NaN     NaN     NaN     NaN     NaN     NaN   \n",
       "\n",
       "   243576  243577  243578  \n",
       "0  -189.0  -208.0  -294.0  \n",
       "1     NaN     NaN     NaN  \n",
       "2     NaN     NaN     NaN  \n",
       "3     NaN     NaN     NaN  \n",
       "4     NaN     NaN     NaN  \n",
       "5     NaN     NaN     NaN  \n",
       "6     NaN     NaN     NaN  \n",
       "7     NaN     NaN     NaN  \n",
       "\n",
       "[8 rows x 243578 columns]"
      ]
     },
     "execution_count": 9,
     "metadata": {},
     "output_type": "execute_result"
    }
   ],
   "source": [
    "ours = pd.read_csv(\"data.csv\", header=None)\n",
    "ours = ours.iloc[1:, :]\n",
    "ours = ours.T\n",
    "ours"
   ]
  },
  {
   "cell_type": "code",
   "execution_count": 10,
   "metadata": {},
   "outputs": [],
   "source": [
    "# normalization\n",
    "def norm(X):\n",
    "    for i in range(X.shape[0]):\n",
    "        row = X[i, :]\n",
    "        X[i, :] = (row - row.min())/(row.max()-row.min())\n",
    "    return"
   ]
  },
  {
   "cell_type": "code",
   "execution_count": 110,
   "metadata": {},
   "outputs": [],
   "source": [
    "def downsample(data, prehz, newhz):\n",
    "    time = int(len(data)/prehz)  # 时间长度s\n",
    "    st = float(prehz)/float(newhz)\n",
    "    new_series = []\n",
    "    for i in range(0, time):\n",
    "        pre_series = data[i*prehz:(i+1)*prehz-1]  # 每1秒的数据\n",
    "        temp = []         # 存放新1s的数据\n",
    "        temp.append(pre_series[0])\n",
    "        for j in range(1, newhz - 1):\n",
    "            index = round(j * st)\n",
    "            temp.append(data[index])\n",
    "        temp.append(pre_series[-1])\n",
    "        new_series.append(temp)\n",
    "    return new_series"
   ]
  },
  {
   "cell_type": "code",
   "execution_count": 133,
   "metadata": {},
   "outputs": [],
   "source": [
    "def hz_convert(array):\n",
    "    new_array = []\n",
    "    for i in range(0, len(array)):\n",
    "        each = array[i]\n",
    "        each = downsample(each, 948, 370)\n",
    "        new_array.append(np.array(each).flatten())\n",
    "    return new_array"
   ]
  },
  {
   "cell_type": "code",
   "execution_count": 12,
   "metadata": {
    "scrolled": true
   },
   "outputs": [
    {
     "data": {
      "text/plain": [
       "[<matplotlib.lines.Line2D at 0x11a73c2e220>]"
      ]
     },
     "execution_count": 12,
     "metadata": {},
     "output_type": "execute_result"
    },
    {
     "data": {
      "image/png": "[encoded data removed]",
      "text/plain": [
       "<Figure size 432x288 with 2 Axes>"
      ]
     },
     "metadata": {
      "needs_background": "light"
     },
     "output_type": "display_data"
    }
   ],
   "source": [
    "from scipy import signal\n",
    "\n",
    "ss = ours.iloc[0, :]\n",
    "s = ss.dropna()\n",
    "s = [i for i in s if i<=10000 and i>=-10000]\n",
    "# plt.plot(s)\n",
    "s = s[0: len(s) - len(s)%25] \n",
    "plt.subplot(2, 1, 1)\n",
    "plt.plot(s[0:370])\n",
    "down_signal = signal.resample(s, int(len(s)/2.56))\n",
    "plt.subplot(2, 1, 2)\n",
    "plt.plot(down_signal[0:370])"
   ]
  },
  {
   "cell_type": "code",
   "execution_count": 134,
   "metadata": {
    "scrolled": false
   },
   "outputs": [],
   "source": [
    "def read_our_data(data):\n",
    "    our_data = []\n",
    "        \n",
    "    for i in range(data.shape[0]):\n",
    "        s = data.iloc[i, :]\n",
    "        s = s.dropna()\n",
    "        \n",
    "\n",
    "        s = [i for i in s if math.isnan(i) == False]\n",
    "        \n",
    "        # median filter\n",
    "        filt = int(512*0.8)\n",
    "        mf = medfilt(s, filt) #中值濾波\n",
    "        s_filted = (s - mf)[int(len(s)*0.05):-int(len(s)*0.05)]\n",
    "        \n",
    "        # splicing data into 948\n",
    "        for i in range(0,len(s_filted), 948):\n",
    "            if i + 948 >= len(s_filted):\n",
    "                break\n",
    "            tmp = s_filted[i:i+948]\n",
    "            if max(tmp)<8000 and min(tmp)>-8000:\n",
    "                our_data.append(tmp)\n",
    "                \n",
    "    # wavelet transform\n",
    "    signal_denoise = denoise(our_data)\n",
    "        \n",
    "    our_down = hz_convert(signal_denoise)\n",
    "            \n",
    "    our_data = np.array(our_down)\n",
    "\n",
    "    return our_data"
   ]
  },
  {
   "cell_type": "markdown",
   "metadata": {},
   "source": [
    "<h2> Read our data and merged into normal dataset"
   ]
  },
  {
   "cell_type": "code",
   "execution_count": 135,
   "metadata": {},
   "outputs": [],
   "source": [
    "our_data = read_our_data(ours)"
   ]
  },
  {
   "cell_type": "code",
   "execution_count": 136,
   "metadata": {},
   "outputs": [
    {
     "data": {
      "text/plain": [
       "(1145, 370)"
      ]
     },
     "execution_count": 136,
     "metadata": {},
     "output_type": "execute_result"
    }
   ],
   "source": [
    "our_data.shape"
   ]
  },
  {
   "cell_type": "code",
   "execution_count": 77,
   "metadata": {
    "executionInfo": {
     "elapsed": 15,
     "status": "ok",
     "timestamp": 1648366494582,
     "user": {
      "displayName": "陳奕帆",
      "photoUrl": "https://lh3.googleusercontent.com/a/default-user=s64",
      "userId": "09464216318732581687"
     },
     "user_tz": -480
    },
    "id": "Om2DcIz-lukZ"
   },
   "outputs": [],
   "source": [
    "covid = pd.read_csv('D:/school\\大三專題/paper_covid/covid/lead1+3/Covid_lead I.csv', header=None)\n",
    "normal = pd.read_csv('D:/school/大三專題/paper_covid/normal/lead1+3/Normal_lead I.csv', header=None)\n",
    "covid = np.array(covid.T)\n",
    "normal = np.array(normal.T)"
   ]
  },
  {
   "cell_type": "code",
   "execution_count": 137,
   "metadata": {},
   "outputs": [],
   "source": [
    "from sklearn.model_selection import train_test_split\n",
    "normal_dataset_train, normal_dataset_test = train_test_split(normal, train_size=0.8, shuffle=True)\n",
    "our_data_train, our_data_test = train_test_split(our_data, train_size=0.8, shuffle=True)"
   ]
  },
  {
   "cell_type": "markdown",
   "metadata": {},
   "source": [
    "<h2> Split COVID and NORMAL data for training data & test data"
   ]
  },
  {
   "cell_type": "code",
   "execution_count": 138,
   "metadata": {},
   "outputs": [],
   "source": [
    "normal_X_train = np.concatenate((normal_dataset_train, our_data_train))\n",
    "normal_X_train = np.concatenate((normal_X_train, -our_data_train))\n",
    "normal_X_test = np.concatenate((normal_dataset_test, our_data_test))\n",
    "covid_X_train, covid_X_test = train_test_split(covid, train_size=0.8, shuffle=True)"
   ]
  },
  {
   "cell_type": "code",
   "execution_count": 139,
   "metadata": {},
   "outputs": [],
   "source": [
    "norm(normal_X_train)\n",
    "norm(normal_X_test)\n",
    "norm(covid_X_train)\n",
    "norm(covid_X_test)"
   ]
  },
  {
   "cell_type": "code",
   "execution_count": 140,
   "metadata": {},
   "outputs": [],
   "source": [
    "for i in range(200):\n",
    "    noise = 0.05 * np.random.normal(0, 0.1, 370);\n",
    "    noisySignal = covid_X_train[i] + noise;\n",
    "    covid_X_train = np.vstack([covid_X_train, noisySignal])\n",
    "    \n",
    "    noise2 = 0.05 * np.random.normal(0, 0.2, 370);\n",
    "    noisySignal2 = covid_X_train[i] + noise2;\n",
    "    covid_X_train = np.vstack([covid_X_train, noisySignal2])\n",
    "    \n",
    "    noise3 = 0.05 * np.random.normal(0, 0.3, 370);\n",
    "    noisySignal3 = covid_X_train[i] + noise3;\n",
    "    covid_X_train = np.vstack([covid_X_train, noisySignal3])"
   ]
  },
  {
   "cell_type": "code",
   "execution_count": 141,
   "metadata": {},
   "outputs": [
    {
     "data": {
      "text/plain": [
       "((1992, 370), (800, 370))"
      ]
     },
     "execution_count": 141,
     "metadata": {},
     "output_type": "execute_result"
    }
   ],
   "source": [
    "normal_X_train.shape, covid_X_train.shape"
   ]
  },
  {
   "cell_type": "code",
   "execution_count": 142,
   "metadata": {},
   "outputs": [],
   "source": [
    "# for i in range(160):\n",
    "#     noise = 0.05 * np.random.normal(0, 0.1, 370);\n",
    "#     noisySignal = covid_X_train[i] + noise;\n",
    "#     covid_X_train = np.vstack([covid_X_train, noisySignal])\n",
    "    \n",
    "#     noise2 = 0.05 * np.random.normal(0, 0.2, 370);\n",
    "#     noisySignal2 = covid_X_train[i] + noise2;\n",
    "#     covid_X_train = np.vstack([covid_X_train, noisySignal2])\n",
    "    \n",
    "#     noise3 = 0.05 * np.random.normal(0, 0.3, 370);\n",
    "#     noisySignal3 = covid_X_train[i] + noise3;\n",
    "#     covid_X_train = np.vstack([covid_X_train, noisySignal3])"
   ]
  },
  {
   "cell_type": "code",
   "execution_count": 143,
   "metadata": {},
   "outputs": [],
   "source": [
    "normal_Y_train = np.zeros(len(normal_X_train))\n",
    "normal_Y_test = np.zeros(len(normal_X_test))\n",
    "covid_Y_train = np.ones(len(covid_X_train))\n",
    "covid_Y_test = np.ones(len(covid_X_test))"
   ]
  },
  {
   "cell_type": "code",
   "execution_count": 144,
   "metadata": {},
   "outputs": [],
   "source": [
    "X_train = np.concatenate((normal_X_train, covid_X_train))\n",
    "Y_train = np.concatenate((normal_Y_train, covid_Y_train))\n",
    "X_test = np.concatenate((normal_X_test, covid_X_test))\n",
    "Y_test = np.concatenate((normal_Y_test, covid_Y_test))"
   ]
  },
  {
   "cell_type": "markdown",
   "metadata": {},
   "source": [
    "<h2> make X_data type to 0 ~ 255"
   ]
  },
  {
   "cell_type": "code",
   "execution_count": 145,
   "metadata": {},
   "outputs": [],
   "source": [
    "for i in range(X_train.shape[0]):\n",
    "    for j in range(X_train.shape[1]):\n",
    "        X_train[i][j] = min(255, int(X_train[i][j]*255))\n",
    "        \n",
    "for i in range(X_test.shape[0]):\n",
    "    for j in range(X_test.shape[1]):\n",
    "        X_test[i][j] = min(255, int(X_test[i][j]*255))       "
   ]
  },
  {
   "cell_type": "markdown",
   "metadata": {},
   "source": [
    "<h2> Get testsamples on board ( 0~ 255 without minus 128 )."
   ]
  },
  {
   "cell_type": "code",
   "execution_count": 146,
   "metadata": {},
   "outputs": [],
   "source": [
    "# X_test_board = np.concatenate((X_test[0:25], X_test[6673:6673+25]))\n",
    "# Y_test_board = np.concatenate((np.zeros(25), np.ones(25)))"
   ]
  },
  {
   "cell_type": "markdown",
   "metadata": {},
   "source": [
    "<h2> make data to -128 ~ 127"
   ]
  },
  {
   "cell_type": "code",
   "execution_count": 147,
   "metadata": {},
   "outputs": [],
   "source": [
    "for i in range(X_train.shape[0]):\n",
    "    for j in range(X_train.shape[1]):\n",
    "        X_train[i][j] = X_train[i][j] - 128\n",
    "        \n",
    "for i in range(X_test.shape[0]):\n",
    "    for j in range(X_test.shape[1]):\n",
    "        X_test[i][j] = X_test[i][j] - 128"
   ]
  },
  {
   "cell_type": "markdown",
   "metadata": {},
   "source": [
    "<h2> Suffle"
   ]
  },
  {
   "cell_type": "code",
   "execution_count": 148,
   "metadata": {},
   "outputs": [],
   "source": [
    "import random\n",
    "def shuffle_array(X, Y):\n",
    "    shuffle_index= np.arange(X.shape[0])\n",
    "    random.shuffle(shuffle_index)\n",
    "    shuffle_X = X[shuffle_index]\n",
    "    shuffle_Y = Y[shuffle_index]\n",
    "    return shuffle_X, shuffle_Y"
   ]
  },
  {
   "cell_type": "code",
   "execution_count": 149,
   "metadata": {},
   "outputs": [],
   "source": [
    "X_train, Y_train = shuffle_array(X_train, Y_train)"
   ]
  },
  {
   "cell_type": "code",
   "execution_count": 150,
   "metadata": {
    "colab": {
     "base_uri": "https://localhost:8080/"
    },
    "executionInfo": {
     "elapsed": 10,
     "status": "ok",
     "timestamp": 1648366495043,
     "user": {
      "displayName": "陳奕帆",
      "photoUrl": "https://lh3.googleusercontent.com/a/default-user=s64",
      "userId": "09464216318732581687"
     },
     "user_tz": -480
    },
    "id": "4i3w50Q9D5s_",
    "outputId": "c7bbdb83-bc2d-4af9-e8be-682e79ad8605"
   },
   "outputs": [
    {
     "name": "stdout",
     "output_type": "stream",
     "text": [
      "(2792, 2) (319, 2)\n"
     ]
    }
   ],
   "source": [
    "from tensorflow.python.keras.utils import np_utils\n",
    "Y_train = np_utils.to_categorical(Y_train, 2)\n",
    "Y_test = np_utils.to_categorical(Y_test, 2)\n",
    "print(Y_train.shape, Y_test.shape)"
   ]
  },
  {
   "cell_type": "markdown",
   "metadata": {
    "id": "GJFEcwHpCRTf"
   },
   "source": [
    "<h2> CNN model"
   ]
  },
  {
   "cell_type": "code",
   "execution_count": 151,
   "metadata": {
    "executionInfo": {
     "elapsed": 6,
     "status": "ok",
     "timestamp": 1648366495677,
     "user": {
      "displayName": "陳奕帆",
      "photoUrl": "https://lh3.googleusercontent.com/a/default-user=s64",
      "userId": "09464216318732581687"
     },
     "user_tz": -480
    },
    "id": "xpMRzVBmGjnY"
   },
   "outputs": [],
   "source": [
    "X_test_reshaped = X_test.reshape(X_test.shape[0], X_test.shape[1],1,1)\n",
    "X_train_reshaped = X_train.reshape(X_train.shape[0], X_train.shape[1],1,1)"
   ]
  },
  {
   "cell_type": "code",
   "execution_count": 152,
   "metadata": {
    "scrolled": true
   },
   "outputs": [
    {
     "data": {
      "text/plain": [
       "((319, 370, 1, 1), (2792, 370, 1, 1))"
      ]
     },
     "execution_count": 152,
     "metadata": {},
     "output_type": "execute_result"
    }
   ],
   "source": [
    "X_test_reshaped.shape, X_train_reshaped.shape"
   ]
  },
  {
   "cell_type": "code",
   "execution_count": 153,
   "metadata": {},
   "outputs": [],
   "source": [
    "# X_test_reshaped = X_test_reshaped.astype(np.uint8)\n",
    "# X_train_reshaped = X_train_reshaped.astype(np.uint8)"
   ]
  },
  {
   "cell_type": "code",
   "execution_count": 164,
   "metadata": {
    "executionInfo": {
     "elapsed": 473,
     "status": "ok",
     "timestamp": 1648366496145,
     "user": {
      "displayName": "陳奕帆",
      "photoUrl": "https://lh3.googleusercontent.com/a/default-user=s64",
      "userId": "09464216318732581687"
     },
     "user_tz": -480
    },
    "id": "jmHNTxKTCUhG"
   },
   "outputs": [],
   "source": [
    "from tensorflow.keras.models import Sequential\n",
    "from tensorflow.keras.layers import *\n",
    "from tensorflow.keras.callbacks import ModelCheckpoint\n",
    "\n",
    "\n",
    "keras.backend.clear_session()\n",
    "\n",
    "def build_model():\n",
    "    model = Sequential()\n",
    "    model.add(Conv2D(filters=16, kernel_size=(3,1), padding='same', activation='relu', input_shape=(370, 1,1)))\n",
    "    model.add(MaxPooling2D(pool_size=(3,1)))\n",
    "    model.add(Conv2D(filters=24, kernel_size=(3,1), padding='same', activation='relu'))\n",
    "    model.add(MaxPooling2D(pool_size=(3,1)))\n",
    "    model.add(Flatten())\n",
    "    model.add(Dense(8, activation='relu'))\n",
    "    model.add(Dense(2, activation='softmax'))\n",
    "    model.compile(loss='categorical_crossentropy', optimizer='adam', metrics=['accuracy'])\n",
    "    return model\n",
    "\n",
    "model = build_model()"
   ]
  },
  {
   "cell_type": "code",
   "execution_count": 165,
   "metadata": {
    "colab": {
     "base_uri": "https://localhost:8080/"
    },
    "executionInfo": {
     "elapsed": 8,
     "status": "ok",
     "timestamp": 1648366496145,
     "user": {
      "displayName": "陳奕帆",
      "photoUrl": "https://lh3.googleusercontent.com/a/default-user=s64",
      "userId": "09464216318732581687"
     },
     "user_tz": -480
    },
    "id": "UHOtDiPUGIou",
    "outputId": "5d5fd50d-3584-42d9-b886-d1bc2f893c67",
    "scrolled": false
   },
   "outputs": [
    {
     "name": "stdout",
     "output_type": "stream",
     "text": [
      "Model: \"sequential\"\n",
      "_________________________________________________________________\n",
      "Layer (type)                 Output Shape              Param #   \n",
      "=================================================================\n",
      "conv2d (Conv2D)              (None, 370, 1, 16)        64        \n",
      "_________________________________________________________________\n",
      "max_pooling2d (MaxPooling2D) (None, 123, 1, 16)        0         \n",
      "_________________________________________________________________\n",
      "conv2d_1 (Conv2D)            (None, 123, 1, 24)        1176      \n",
      "_________________________________________________________________\n",
      "max_pooling2d_1 (MaxPooling2 (None, 41, 1, 24)         0         \n",
      "_________________________________________________________________\n",
      "flatten (Flatten)            (None, 984)               0         \n",
      "_________________________________________________________________\n",
      "dense (Dense)                (None, 8)                 7880      \n",
      "_________________________________________________________________\n",
      "dense_1 (Dense)              (None, 2)                 18        \n",
      "=================================================================\n",
      "Total params: 9,138\n",
      "Trainable params: 9,138\n",
      "Non-trainable params: 0\n",
      "_________________________________________________________________\n"
     ]
    }
   ],
   "source": [
    "model.summary()"
   ]
  },
  {
   "cell_type": "code",
   "execution_count": 166,
   "metadata": {
    "colab": {
     "base_uri": "https://localhost:8080/"
    },
    "executionInfo": {
     "elapsed": 41392,
     "status": "ok",
     "timestamp": 1648367294710,
     "user": {
      "displayName": "陳奕帆",
      "photoUrl": "https://lh3.googleusercontent.com/a/default-user=s64",
      "userId": "09464216318732581687"
     },
     "user_tz": -480
    },
    "id": "8YwM471vHVH8",
    "outputId": "7e0fea62-3343-471b-a6db-8fe12cd0afa6",
    "scrolled": true
   },
   "outputs": [
    {
     "name": "stdout",
     "output_type": "stream",
     "text": [
      "Epoch 1/100\n",
      " 1/20 [>.............................] - ETA: 0s - loss: 19.0043 - accuracy: 0.3438WARNING:tensorflow:Callbacks method `on_train_batch_end` is slow compared to the batch time (batch time: 0.0010s vs `on_train_batch_end` time: 0.0059s). Check your callbacks.\n",
      "15/20 [=====================>........] - ETA: 0s - loss: 3.8977 - accuracy: 0.5625WARNING:tensorflow:Callbacks method `on_test_batch_end` is slow compared to the batch time (batch time: 0.0010s vs `on_test_batch_end` time: 0.0029s). Check your callbacks.\n",
      "20/20 [==============================] - 0s 13ms/step - loss: 3.2311 - accuracy: 0.5797 - val_loss: 0.8065 - val_accuracy: 0.6750\n",
      "Epoch 2/100\n",
      "20/20 [==============================] - 0s 17ms/step - loss: 0.6891 - accuracy: 0.6750 - val_loss: 0.5387 - val_accuracy: 0.6750\n",
      "Epoch 3/100\n",
      "20/20 [==============================] - 0s 9ms/step - loss: 0.5214 - accuracy: 0.6750 - val_loss: 0.5267 - val_accuracy: 0.6875\n",
      "Epoch 4/100\n",
      "20/20 [==============================] - 0s 3ms/step - loss: 0.5119 - accuracy: 0.6859 - val_loss: 0.5140 - val_accuracy: 0.6875\n",
      "Epoch 5/100\n",
      "20/20 [==============================] - 0s 3ms/step - loss: 0.5016 - accuracy: 0.6844 - val_loss: 0.5006 - val_accuracy: 0.6875\n",
      "Epoch 6/100\n",
      "20/20 [==============================] - 0s 3ms/step - loss: 0.4926 - accuracy: 0.6859 - val_loss: 0.5026 - val_accuracy: 0.7000\n",
      "Epoch 7/100\n",
      "20/20 [==============================] - 0s 3ms/step - loss: 0.4815 - accuracy: 0.6859 - val_loss: 0.4939 - val_accuracy: 0.7063\n",
      "Epoch 8/100\n",
      "20/20 [==============================] - 0s 3ms/step - loss: 0.4710 - accuracy: 0.6859 - val_loss: 0.4832 - val_accuracy: 0.7063\n",
      "Epoch 9/100\n",
      "20/20 [==============================] - 0s 3ms/step - loss: 0.4549 - accuracy: 0.6859 - val_loss: 0.4745 - val_accuracy: 0.7063\n",
      "Epoch 10/100\n",
      "20/20 [==============================] - 0s 3ms/step - loss: 0.4402 - accuracy: 0.6828 - val_loss: 0.4667 - val_accuracy: 0.7750\n",
      "Epoch 11/100\n",
      "20/20 [==============================] - 0s 3ms/step - loss: 0.4258 - accuracy: 0.7719 - val_loss: 0.4436 - val_accuracy: 0.7937\n",
      "Epoch 12/100\n",
      "20/20 [==============================] - 0s 3ms/step - loss: 0.4142 - accuracy: 0.7859 - val_loss: 0.4431 - val_accuracy: 0.7812\n",
      "Epoch 13/100\n",
      "20/20 [==============================] - 0s 3ms/step - loss: 0.4029 - accuracy: 0.7859 - val_loss: 0.4241 - val_accuracy: 0.7875\n",
      "Epoch 14/100\n",
      "20/20 [==============================] - 0s 3ms/step - loss: 0.3947 - accuracy: 0.7875 - val_loss: 0.4295 - val_accuracy: 0.7750\n",
      "Epoch 15/100\n",
      "20/20 [==============================] - 0s 3ms/step - loss: 0.3759 - accuracy: 0.8219 - val_loss: 0.4234 - val_accuracy: 0.7937\n",
      "Epoch 16/100\n",
      "20/20 [==============================] - 0s 3ms/step - loss: 0.3479 - accuracy: 0.8188 - val_loss: 0.4414 - val_accuracy: 0.8188\n",
      "Epoch 17/100\n",
      "20/20 [==============================] - 0s 3ms/step - loss: 0.3271 - accuracy: 0.8484 - val_loss: 0.4593 - val_accuracy: 0.8250\n",
      "Epoch 18/100\n",
      "20/20 [==============================] - 0s 3ms/step - loss: 0.3011 - accuracy: 0.8797 - val_loss: 0.4000 - val_accuracy: 0.8250\n",
      "Epoch 19/100\n",
      "20/20 [==============================] - 0s 3ms/step - loss: 0.2693 - accuracy: 0.8781 - val_loss: 0.3957 - val_accuracy: 0.8813\n",
      "Epoch 20/100\n",
      "20/20 [==============================] - 0s 3ms/step - loss: 0.2285 - accuracy: 0.9109 - val_loss: 0.3616 - val_accuracy: 0.9000\n",
      "Epoch 21/100\n",
      "20/20 [==============================] - 0s 3ms/step - loss: 0.1995 - accuracy: 0.9125 - val_loss: 0.3994 - val_accuracy: 0.8562\n",
      "Epoch 22/100\n",
      "20/20 [==============================] - 0s 2ms/step - loss: 0.1707 - accuracy: 0.9422 - val_loss: 0.3100 - val_accuracy: 0.9000\n",
      "Epoch 23/100\n",
      "20/20 [==============================] - 0s 2ms/step - loss: 0.1479 - accuracy: 0.9375 - val_loss: 0.2863 - val_accuracy: 0.9062\n",
      "Epoch 24/100\n",
      "20/20 [==============================] - 0s 3ms/step - loss: 0.1208 - accuracy: 0.9578 - val_loss: 0.2191 - val_accuracy: 0.9187\n",
      "Epoch 25/100\n",
      "20/20 [==============================] - 0s 2ms/step - loss: 0.0959 - accuracy: 0.9703 - val_loss: 0.2785 - val_accuracy: 0.9062\n",
      "Epoch 26/100\n",
      "20/20 [==============================] - 0s 3ms/step - loss: 0.0964 - accuracy: 0.9578 - val_loss: 0.1676 - val_accuracy: 0.9438\n",
      "Epoch 27/100\n",
      "20/20 [==============================] - 0s 3ms/step - loss: 0.0755 - accuracy: 0.9828 - val_loss: 0.1419 - val_accuracy: 0.9625\n",
      "Epoch 28/100\n",
      "20/20 [==============================] - 0s 2ms/step - loss: 0.0583 - accuracy: 0.9875 - val_loss: 0.1243 - val_accuracy: 0.9688\n",
      "Epoch 29/100\n",
      "20/20 [==============================] - 0s 2ms/step - loss: 0.0470 - accuracy: 0.9859 - val_loss: 0.1056 - val_accuracy: 0.9688\n",
      "Epoch 30/100\n",
      "20/20 [==============================] - 0s 3ms/step - loss: 0.0366 - accuracy: 0.9922 - val_loss: 0.0983 - val_accuracy: 0.9688\n",
      "Epoch 31/100\n",
      "20/20 [==============================] - 0s 3ms/step - loss: 0.0307 - accuracy: 0.9937 - val_loss: 0.0821 - val_accuracy: 0.9750\n",
      "Epoch 32/100\n",
      "20/20 [==============================] - 0s 3ms/step - loss: 0.0246 - accuracy: 0.9953 - val_loss: 0.1176 - val_accuracy: 0.9688\n",
      "Epoch 33/100\n",
      "20/20 [==============================] - 0s 3ms/step - loss: 0.0209 - accuracy: 0.9984 - val_loss: 0.1175 - val_accuracy: 0.9625\n",
      "Epoch 34/100\n",
      "20/20 [==============================] - 0s 3ms/step - loss: 0.0195 - accuracy: 0.9969 - val_loss: 0.1103 - val_accuracy: 0.9625\n",
      "Epoch 35/100\n",
      "20/20 [==============================] - 0s 3ms/step - loss: 0.0174 - accuracy: 1.0000 - val_loss: 0.1125 - val_accuracy: 0.9750\n",
      "Epoch 36/100\n",
      " 1/20 [>.............................] - ETA: 0s - loss: 0.0048 - accuracy: 1.0000\n",
      "Epoch 00036: ReduceLROnPlateau reducing learning rate to 0.0005000000237487257.\n",
      "20/20 [==============================] - 0s 3ms/step - loss: 0.0152 - accuracy: 1.0000 - val_loss: 0.1137 - val_accuracy: 0.9750\n",
      "Epoch 37/100\n",
      "20/20 [==============================] - 0s 3ms/step - loss: 0.0130 - accuracy: 0.9984 - val_loss: 0.1095 - val_accuracy: 0.9750\n",
      "Epoch 38/100\n",
      "20/20 [==============================] - 0s 3ms/step - loss: 0.0126 - accuracy: 1.0000 - val_loss: 0.1112 - val_accuracy: 0.9750\n",
      "Epoch 39/100\n",
      "20/20 [==============================] - 0s 3ms/step - loss: 0.0122 - accuracy: 1.0000 - val_loss: 0.1075 - val_accuracy: 0.9750\n",
      "Epoch 40/100\n",
      "20/20 [==============================] - 0s 3ms/step - loss: 0.0117 - accuracy: 1.0000 - val_loss: 0.1078 - val_accuracy: 0.9750\n",
      "Epoch 41/100\n",
      " 1/20 [>.............................] - ETA: 0s - loss: 0.0083 - accuracy: 1.0000\n",
      "Epoch 00041: ReduceLROnPlateau reducing learning rate to 0.0002500000118743628.\n",
      "20/20 [==============================] - 0s 3ms/step - loss: 0.0115 - accuracy: 1.0000 - val_loss: 0.1072 - val_accuracy: 0.9750\n",
      "Epoch 42/100\n",
      "20/20 [==============================] - 0s 3ms/step - loss: 0.0112 - accuracy: 1.0000 - val_loss: 0.1081 - val_accuracy: 0.9750\n",
      "Epoch 43/100\n",
      "20/20 [==============================] - 0s 3ms/step - loss: 0.0111 - accuracy: 1.0000 - val_loss: 0.1086 - val_accuracy: 0.9750\n",
      "Epoch 44/100\n",
      "20/20 [==============================] - 0s 3ms/step - loss: 0.0110 - accuracy: 1.0000 - val_loss: 0.1081 - val_accuracy: 0.9750\n",
      "Epoch 45/100\n",
      "20/20 [==============================] - 0s 3ms/step - loss: 0.0109 - accuracy: 1.0000 - val_loss: 0.1078 - val_accuracy: 0.9750\n",
      "Epoch 46/100\n",
      " 1/20 [>.............................] - ETA: 0s - loss: 0.0046 - accuracy: 1.0000\n",
      "Epoch 00046: ReduceLROnPlateau reducing learning rate to 0.0001250000059371814.\n",
      "20/20 [==============================] - 0s 3ms/step - loss: 0.0108 - accuracy: 1.0000 - val_loss: 0.1073 - val_accuracy: 0.9750\n",
      "Epoch 47/100\n",
      "20/20 [==============================] - 0s 3ms/step - loss: 0.0107 - accuracy: 1.0000 - val_loss: 0.1069 - val_accuracy: 0.9750\n",
      "Epoch 48/100\n",
      "20/20 [==============================] - 0s 3ms/step - loss: 0.0106 - accuracy: 1.0000 - val_loss: 0.1072 - val_accuracy: 0.9750\n",
      "Epoch 49/100\n",
      "20/20 [==============================] - 0s 2ms/step - loss: 0.0106 - accuracy: 1.0000 - val_loss: 0.1074 - val_accuracy: 0.9750\n",
      "Epoch 50/100\n",
      "20/20 [==============================] - 0s 3ms/step - loss: 0.0105 - accuracy: 1.0000 - val_loss: 0.1061 - val_accuracy: 0.9750\n",
      "Epoch 51/100\n",
      " 1/20 [>.............................] - ETA: 0s - loss: 0.0206 - accuracy: 1.0000\n",
      "Epoch 00051: ReduceLROnPlateau reducing learning rate to 6.25000029685907e-05.\n",
      "20/20 [==============================] - 0s 2ms/step - loss: 0.0105 - accuracy: 1.0000 - val_loss: 0.1062 - val_accuracy: 0.9750\n"
     ]
    },
    {
     "name": "stdout",
     "output_type": "stream",
     "text": [
      "Epoch 52/100\n",
      "20/20 [==============================] - 0s 3ms/step - loss: 0.0105 - accuracy: 1.0000 - val_loss: 0.1063 - val_accuracy: 0.9750\n",
      "Epoch 53/100\n",
      "20/20 [==============================] - 0s 3ms/step - loss: 0.0104 - accuracy: 1.0000 - val_loss: 0.1064 - val_accuracy: 0.9750\n",
      "Epoch 54/100\n",
      "20/20 [==============================] - 0s 3ms/step - loss: 0.0104 - accuracy: 1.0000 - val_loss: 0.1066 - val_accuracy: 0.9750\n",
      "Epoch 55/100\n",
      "20/20 [==============================] - 0s 3ms/step - loss: 0.0104 - accuracy: 1.0000 - val_loss: 0.1067 - val_accuracy: 0.9750\n",
      "Epoch 56/100\n",
      " 1/20 [>.............................] - ETA: 0s - loss: 0.0220 - accuracy: 1.0000\n",
      "Epoch 00056: ReduceLROnPlateau reducing learning rate to 3.125000148429535e-05.\n",
      "20/20 [==============================] - 0s 3ms/step - loss: 0.0104 - accuracy: 1.0000 - val_loss: 0.1068 - val_accuracy: 0.9750\n",
      "Epoch 57/100\n",
      "20/20 [==============================] - 0s 3ms/step - loss: 0.0103 - accuracy: 1.0000 - val_loss: 0.1069 - val_accuracy: 0.9750\n",
      "Epoch 58/100\n",
      "20/20 [==============================] - 0s 3ms/step - loss: 0.0103 - accuracy: 1.0000 - val_loss: 0.1070 - val_accuracy: 0.9750\n",
      "Epoch 59/100\n",
      "20/20 [==============================] - 0s 3ms/step - loss: 0.0103 - accuracy: 1.0000 - val_loss: 0.1072 - val_accuracy: 0.9750\n",
      "Epoch 60/100\n",
      "20/20 [==============================] - 0s 2ms/step - loss: 0.0103 - accuracy: 1.0000 - val_loss: 0.1071 - val_accuracy: 0.9750\n",
      "Epoch 61/100\n",
      " 1/20 [>.............................] - ETA: 0s - loss: 0.0014 - accuracy: 1.0000\n",
      "Epoch 00061: ReduceLROnPlateau reducing learning rate to 1.5625000742147677e-05.\n",
      "20/20 [==============================] - 0s 3ms/step - loss: 0.0103 - accuracy: 1.0000 - val_loss: 0.1072 - val_accuracy: 0.9750\n",
      "Epoch 62/100\n",
      "20/20 [==============================] - 0s 3ms/step - loss: 0.0103 - accuracy: 1.0000 - val_loss: 0.1072 - val_accuracy: 0.9750\n",
      "Epoch 63/100\n",
      "20/20 [==============================] - 0s 3ms/step - loss: 0.0103 - accuracy: 1.0000 - val_loss: 0.1072 - val_accuracy: 0.9750\n",
      "Epoch 64/100\n",
      "20/20 [==============================] - 0s 2ms/step - loss: 0.0103 - accuracy: 1.0000 - val_loss: 0.1071 - val_accuracy: 0.9750\n",
      "Epoch 65/100\n",
      "20/20 [==============================] - 0s 3ms/step - loss: 0.0103 - accuracy: 1.0000 - val_loss: 0.1072 - val_accuracy: 0.9750\n",
      "Epoch 66/100\n",
      " 1/20 [>.............................] - ETA: 0s - loss: 0.0217 - accuracy: 1.0000\n",
      "Epoch 00066: ReduceLROnPlateau reducing learning rate to 7.812500371073838e-06.\n",
      "20/20 [==============================] - 0s 3ms/step - loss: 0.0103 - accuracy: 1.0000 - val_loss: 0.1072 - val_accuracy: 0.9750\n",
      "Epoch 67/100\n",
      "20/20 [==============================] - 0s 3ms/step - loss: 0.0102 - accuracy: 1.0000 - val_loss: 0.1072 - val_accuracy: 0.9750\n",
      "Epoch 68/100\n",
      "20/20 [==============================] - 0s 3ms/step - loss: 0.0102 - accuracy: 1.0000 - val_loss: 0.1072 - val_accuracy: 0.9750\n",
      "Epoch 69/100\n",
      "20/20 [==============================] - 0s 3ms/step - loss: 0.0102 - accuracy: 1.0000 - val_loss: 0.1072 - val_accuracy: 0.9750\n",
      "Epoch 70/100\n",
      "20/20 [==============================] - 0s 2ms/step - loss: 0.0102 - accuracy: 1.0000 - val_loss: 0.1072 - val_accuracy: 0.9750\n",
      "Epoch 71/100\n",
      " 1/20 [>.............................] - ETA: 0s - loss: 0.0019 - accuracy: 1.0000\n",
      "Epoch 00071: ReduceLROnPlateau reducing learning rate to 3.906250185536919e-06.\n",
      "20/20 [==============================] - 0s 3ms/step - loss: 0.0102 - accuracy: 1.0000 - val_loss: 0.1072 - val_accuracy: 0.9750\n",
      "Epoch 72/100\n",
      "20/20 [==============================] - 0s 3ms/step - loss: 0.0102 - accuracy: 1.0000 - val_loss: 0.1072 - val_accuracy: 0.9750\n",
      "Epoch 73/100\n",
      "20/20 [==============================] - 0s 2ms/step - loss: 0.0102 - accuracy: 1.0000 - val_loss: 0.1072 - val_accuracy: 0.9750\n",
      "Epoch 74/100\n",
      "20/20 [==============================] - 0s 3ms/step - loss: 0.0102 - accuracy: 1.0000 - val_loss: 0.1072 - val_accuracy: 0.9750\n",
      "Epoch 75/100\n",
      "20/20 [==============================] - 0s 3ms/step - loss: 0.0102 - accuracy: 1.0000 - val_loss: 0.1072 - val_accuracy: 0.9750\n",
      "Epoch 76/100\n",
      " 1/20 [>.............................] - ETA: 0s - loss: 0.0056 - accuracy: 1.0000\n",
      "Epoch 00076: ReduceLROnPlateau reducing learning rate to 1.9531250927684596e-06.\n",
      "20/20 [==============================] - 0s 3ms/step - loss: 0.0102 - accuracy: 1.0000 - val_loss: 0.1072 - val_accuracy: 0.9750\n",
      "Epoch 77/100\n",
      "20/20 [==============================] - 0s 5ms/step - loss: 0.0102 - accuracy: 1.0000 - val_loss: 0.1072 - val_accuracy: 0.9750\n",
      "Epoch 78/100\n",
      "20/20 [==============================] - 0s 3ms/step - loss: 0.0102 - accuracy: 1.0000 - val_loss: 0.1072 - val_accuracy: 0.9750\n",
      "Epoch 79/100\n",
      "20/20 [==============================] - 0s 3ms/step - loss: 0.0102 - accuracy: 1.0000 - val_loss: 0.1072 - val_accuracy: 0.9750\n",
      "Epoch 80/100\n",
      "20/20 [==============================] - 0s 3ms/step - loss: 0.0102 - accuracy: 1.0000 - val_loss: 0.1072 - val_accuracy: 0.9750\n",
      "Epoch 81/100\n",
      " 1/20 [>.............................] - ETA: 0s - loss: 0.0216 - accuracy: 1.0000\n",
      "Epoch 00081: ReduceLROnPlateau reducing learning rate to 9.765625463842298e-07.\n",
      "20/20 [==============================] - 0s 3ms/step - loss: 0.0102 - accuracy: 1.0000 - val_loss: 0.1072 - val_accuracy: 0.9750\n",
      "Epoch 82/100\n",
      "20/20 [==============================] - 0s 3ms/step - loss: 0.0102 - accuracy: 1.0000 - val_loss: 0.1072 - val_accuracy: 0.9750\n",
      "Epoch 83/100\n",
      "20/20 [==============================] - 0s 2ms/step - loss: 0.0102 - accuracy: 1.0000 - val_loss: 0.1072 - val_accuracy: 0.9750\n",
      "Epoch 84/100\n",
      "20/20 [==============================] - 0s 3ms/step - loss: 0.0102 - accuracy: 1.0000 - val_loss: 0.1072 - val_accuracy: 0.9750\n",
      "Epoch 85/100\n",
      "20/20 [==============================] - 0s 3ms/step - loss: 0.0102 - accuracy: 1.0000 - val_loss: 0.1072 - val_accuracy: 0.9750\n",
      "Epoch 86/100\n",
      " 1/20 [>.............................] - ETA: 0s - loss: 0.0026 - accuracy: 1.0000\n",
      "Epoch 00086: ReduceLROnPlateau reducing learning rate to 4.882812731921149e-07.\n",
      "20/20 [==============================] - 0s 3ms/step - loss: 0.0102 - accuracy: 1.0000 - val_loss: 0.1072 - val_accuracy: 0.9750\n",
      "Epoch 87/100\n",
      "20/20 [==============================] - 0s 2ms/step - loss: 0.0102 - accuracy: 1.0000 - val_loss: 0.1072 - val_accuracy: 0.9750\n",
      "Epoch 88/100\n",
      "20/20 [==============================] - 0s 3ms/step - loss: 0.0102 - accuracy: 1.0000 - val_loss: 0.1072 - val_accuracy: 0.9750\n",
      "Epoch 89/100\n",
      "20/20 [==============================] - 0s 3ms/step - loss: 0.0102 - accuracy: 1.0000 - val_loss: 0.1072 - val_accuracy: 0.9750\n",
      "Epoch 90/100\n",
      "20/20 [==============================] - 0s 3ms/step - loss: 0.0102 - accuracy: 1.0000 - val_loss: 0.1072 - val_accuracy: 0.9750\n",
      "Epoch 91/100\n",
      " 1/20 [>.............................] - ETA: 0s - loss: 0.0035 - accuracy: 1.0000\n",
      "Epoch 00091: ReduceLROnPlateau reducing learning rate to 2.4414063659605745e-07.\n",
      "20/20 [==============================] - 0s 2ms/step - loss: 0.0102 - accuracy: 1.0000 - val_loss: 0.1072 - val_accuracy: 0.9750\n",
      "Epoch 92/100\n",
      "20/20 [==============================] - 0s 3ms/step - loss: 0.0102 - accuracy: 1.0000 - val_loss: 0.1072 - val_accuracy: 0.9750\n",
      "Epoch 93/100\n",
      "20/20 [==============================] - 0s 2ms/step - loss: 0.0102 - accuracy: 1.0000 - val_loss: 0.1072 - val_accuracy: 0.9750\n",
      "Epoch 94/100\n",
      "20/20 [==============================] - 0s 3ms/step - loss: 0.0102 - accuracy: 1.0000 - val_loss: 0.1072 - val_accuracy: 0.9750\n",
      "Epoch 95/100\n",
      "20/20 [==============================] - 0s 3ms/step - loss: 0.0102 - accuracy: 1.0000 - val_loss: 0.1072 - val_accuracy: 0.9750\n",
      "Epoch 96/100\n",
      " 1/20 [>.............................] - ETA: 0s - loss: 0.0014 - accuracy: 1.0000\n",
      "Epoch 00096: ReduceLROnPlateau reducing learning rate to 1.2207031829802872e-07.\n",
      "20/20 [==============================] - 0s 3ms/step - loss: 0.0102 - accuracy: 1.0000 - val_loss: 0.1072 - val_accuracy: 0.9750\n",
      "Epoch 97/100\n",
      "20/20 [==============================] - 0s 2ms/step - loss: 0.0102 - accuracy: 1.0000 - val_loss: 0.1072 - val_accuracy: 0.9750\n",
      "Epoch 98/100\n",
      "20/20 [==============================] - 0s 3ms/step - loss: 0.0102 - accuracy: 1.0000 - val_loss: 0.1072 - val_accuracy: 0.9750\n",
      "Epoch 99/100\n"
     ]
    },
    {
     "name": "stdout",
     "output_type": "stream",
     "text": [
      "20/20 [==============================] - 0s 3ms/step - loss: 0.0102 - accuracy: 1.0000 - val_loss: 0.1072 - val_accuracy: 0.9750\n",
      "Epoch 100/100\n",
      "20/20 [==============================] - 0s 2ms/step - loss: 0.0102 - accuracy: 1.0000 - val_loss: 0.1072 - val_accuracy: 0.9750\n"
     ]
    }
   ],
   "source": [
    "from tensorflow.keras.callbacks import ReduceLROnPlateau\n",
    "\n",
    "learning_rate_function = ReduceLROnPlateau(monitor='val_loss', patience=5, verbose=1, factor=0.5, min_lr=0.000000001)\n",
    "callbacks_list = [learning_rate_function]\n",
    "history = model.fit(X_train_reshaped[:800], Y_train, epochs=100, validation_split=0.2, verbose=1, callbacks=callbacks_list)"
   ]
  },
  {
   "cell_type": "code",
   "execution_count": 167,
   "metadata": {
    "scrolled": true
   },
   "outputs": [
    {
     "data": {
      "image/png": "[encoded data removed]",
      "text/plain": [
       "<Figure size 432x288 with 1 Axes>"
      ]
     },
     "metadata": {
      "needs_background": "light"
     },
     "output_type": "display_data"
    }
   ],
   "source": [
    "plt.plot(history.history['accuracy'])\n",
    "plt.plot(history.history['val_accuracy'])\n",
    "plt.title('model accuracy')\n",
    "plt.ylabel('accuracy')\n",
    "plt.xlabel('epoch')\n",
    "plt.legend(['train', 'validation'], loc='lower right')\n",
    "plt.show()"
   ]
  },
  {
   "cell_type": "code",
   "execution_count": 168,
   "metadata": {},
   "outputs": [
    {
     "data": {
      "image/png": "[encoded data removed]",
      "text/plain": [
       "<Figure size 432x288 with 1 Axes>"
      ]
     },
     "metadata": {
      "needs_background": "light"
     },
     "output_type": "display_data"
    }
   ],
   "source": [
    "plt.plot(history.history['loss'])\n",
    "plt.plot(history.history['val_loss'])\n",
    "plt.title('model loss')\n",
    "plt.ylabel('loss')\n",
    "plt.xlabel('epoch')\n",
    "plt.legend(['train', 'validation'], loc='upper right')\n",
    "plt.show()"
   ]
  },
  {
   "cell_type": "code",
   "execution_count": 169,
   "metadata": {
    "executionInfo": {
     "elapsed": 18,
     "status": "aborted",
     "timestamp": 1648367294711,
     "user": {
      "displayName": "陳奕帆",
      "photoUrl": "https://lh3.googleusercontent.com/a/default-user=s64",
      "userId": "09464216318732581687"
     },
     "user_tz": -480
    },
    "id": "7ccZwPcfHhfM"
   },
   "outputs": [
    {
     "name": "stdout",
     "output_type": "stream",
     "text": [
      "10/10 [==============================] - 0s 5ms/step - loss: 0.2326 - accuracy: 0.9185\n"
     ]
    }
   ],
   "source": [
    "keras.backend.clear_session()\n",
    "model2 = model\n",
    "[loss, acc] = model2.evaluate(X_test_reshaped, Y_test, verbose=1)"
   ]
  },
  {
   "cell_type": "code",
   "execution_count": 170,
   "metadata": {},
   "outputs": [
    {
     "data": {
      "text/plain": [
       "array([0, 0, 0, 0, 0, 0, 0, 1, 0, 1, 1, 0, 0, 0, 0, 1, 0, 0, 0, 0, 0, 1,\n",
       "       0, 0, 0, 0, 0, 0, 1, 0, 1, 0, 0, 1, 0, 0, 0, 1, 0, 0, 0, 0, 0, 0,\n",
       "       0, 0, 0, 0, 0, 0, 0, 0, 0, 0, 1, 0, 0, 0, 1, 0, 0, 0, 0, 0, 0, 0,\n",
       "       0, 0, 0, 0, 0, 0, 0, 0, 0, 0, 0, 0, 0, 0, 0, 0, 0, 0, 0, 0, 0, 0,\n",
       "       0, 0, 0, 0, 0, 0, 0, 0, 0, 0, 0, 0, 0, 0, 0, 0, 0, 0, 0, 0, 0, 0,\n",
       "       0, 0, 0, 0, 0, 0, 0, 0, 0, 0, 0, 0, 0, 0, 0, 0, 0, 0, 0, 0, 0, 0,\n",
       "       0, 0, 0, 0, 0, 0, 0, 0, 0, 0, 0, 0, 0, 0, 0, 0, 1, 0, 0, 0, 0, 0,\n",
       "       0, 0, 0, 0, 0, 0, 0, 0, 0, 0, 0, 0, 0, 0, 0, 0, 0, 0, 0, 0, 0, 0,\n",
       "       0, 0, 0, 0, 0, 0, 0, 0, 0, 0, 0, 0, 0, 0, 0, 0, 0, 0, 0, 0, 0, 0,\n",
       "       0, 0, 0, 0, 0, 0, 0, 0, 0, 0, 0, 0, 0, 0, 0, 1, 0, 0, 0, 0, 0, 0,\n",
       "       0, 0, 0, 0, 0, 0, 0, 0, 0, 0, 0, 0, 0, 0, 0, 1, 0, 0, 0, 0, 0, 0,\n",
       "       0, 0, 0, 0, 0, 0, 0, 0, 0, 0, 0, 0, 0, 0, 0, 0, 0, 0, 0, 0, 0, 0,\n",
       "       0, 0, 0, 0, 0, 1, 0, 1, 1, 1, 1, 1, 1, 1, 0, 0, 1, 1, 0, 1, 1, 0,\n",
       "       0, 1, 1, 0, 1, 1, 1, 1, 1, 1, 1, 0, 1, 1, 1, 0, 1, 0, 1, 0, 1, 1,\n",
       "       1, 1, 1, 1, 1, 1, 1, 0, 1, 1, 1], dtype=int64)"
      ]
     },
     "execution_count": 170,
     "metadata": {},
     "output_type": "execute_result"
    }
   ],
   "source": [
    "prediction = model2.predict(X_test_reshaped)\n",
    "classes = np.argmax(prediction, axis=1)\n",
    "classes"
   ]
  },
  {
   "cell_type": "code",
   "execution_count": 171,
   "metadata": {},
   "outputs": [
    {
     "data": {
      "text/plain": [
       "(319, 370, 1, 1)"
      ]
     },
     "execution_count": 171,
     "metadata": {},
     "output_type": "execute_result"
    }
   ],
   "source": [
    "X_test_reshaped.shape"
   ]
  },
  {
   "cell_type": "code",
   "execution_count": 172,
   "metadata": {},
   "outputs": [],
   "source": [
    "ans = [int(i) for i in Y_test[:, 1]]"
   ]
  },
  {
   "cell_type": "code",
   "execution_count": 173,
   "metadata": {
    "scrolled": false
   },
   "outputs": [
    {
     "data": {
      "image/png": "[encoded data removed]",
      "text/plain": [
       "<Figure size 432x288 with 2 Axes>"
      ]
     },
     "metadata": {
      "needs_background": "light"
     },
     "output_type": "display_data"
    }
   ],
   "source": [
    "from sklearn.metrics import confusion_matrix\n",
    "from sklearn.metrics import ConfusionMatrixDisplay\n",
    "\n",
    "cm = confusion_matrix(ans, classes)\n",
    "\n",
    "disp = ConfusionMatrixDisplay(confusion_matrix=cm)\n",
    "\n",
    "disp.plot(cmap=plt.cm.Blues)\n",
    "plt.show()"
   ]
  },
  {
   "cell_type": "markdown",
   "metadata": {},
   "source": [
    "<h1> converted to tflite"
   ]
  },
  {
   "cell_type": "code",
   "execution_count": 38,
   "metadata": {},
   "outputs": [
    {
     "name": "stdout",
     "output_type": "stream",
     "text": [
      "WARNING:tensorflow:From D:\\anaconda\\envs\\tensorflow\\lib\\site-packages\\tensorflow\\python\\training\\tracking\\tracking.py:111: Model.state_updates (from tensorflow.python.keras.engine.training) is deprecated and will be removed in a future version.\n",
      "Instructions for updating:\n",
      "This property should not be used in TensorFlow 2.0, as updates are applied automatically.\n",
      "WARNING:tensorflow:From D:\\anaconda\\envs\\tensorflow\\lib\\site-packages\\tensorflow\\python\\training\\tracking\\tracking.py:111: Layer.updates (from tensorflow.python.keras.engine.base_layer) is deprecated and will be removed in a future version.\n",
      "Instructions for updating:\n",
      "This property should not be used in TensorFlow 2.0, as updates are applied automatically.\n",
      "INFO:tensorflow:Assets written to: model_save\\assets\n"
     ]
    }
   ],
   "source": [
    "model2.save('model_save')"
   ]
  },
  {
   "cell_type": "code",
   "execution_count": 39,
   "metadata": {},
   "outputs": [
    {
     "name": "stdout",
     "output_type": "stream",
     "text": [
      "test loss 0.11365614086389542\n",
      "accuracy 0.9855491518974304\n"
     ]
    }
   ],
   "source": [
    "model_test = keras.models.load_model('model_save')\n",
    "\n",
    "# Model Evaluation\n",
    "score = model_test.evaluate(X_test_reshaped, Y_test, verbose = 0)\n",
    "print('test loss', score[0])\n",
    "print('accuracy', score[1])"
   ]
  },
  {
   "cell_type": "markdown",
   "metadata": {},
   "source": [
    "## Quantization"
   ]
  },
  {
   "cell_type": "code",
   "execution_count": 40,
   "metadata": {},
   "outputs": [],
   "source": [
    "model = model_test"
   ]
  },
  {
   "cell_type": "code",
   "execution_count": 41,
   "metadata": {},
   "outputs": [
    {
     "name": "stdout",
     "output_type": "stream",
     "text": [
      "INFO:tensorflow:Assets written to: C:\\Users\\陳奕帆\\AppData\\Local\\Temp\\tmpkk19mvy0\\assets\n"
     ]
    }
   ],
   "source": [
    "# tensorflow lite model\n",
    "converter = tf.lite.TFLiteConverter.from_keras_model(model)\n",
    "tflite_model = converter.convert()"
   ]
  },
  {
   "cell_type": "code",
   "execution_count": 42,
   "metadata": {},
   "outputs": [],
   "source": [
    "train_data = tf.cast(X_test_reshaped, tf.float32)\n",
    "# train_data = X_train_reshaped\n",
    "def representative_data_gen():\n",
    "    for input_value in tf.data.Dataset.from_tensor_slices(train_data).batch(1).take(100):\n",
    "    # Model has only one input so each data point has one element.\n",
    "        yield [input_value]"
   ]
  },
  {
   "cell_type": "code",
   "execution_count": 43,
   "metadata": {},
   "outputs": [
    {
     "name": "stdout",
     "output_type": "stream",
     "text": [
      "INFO:tensorflow:Assets written to: C:\\Users\\陳奕帆\\AppData\\Local\\Temp\\tmpg3uaca5w\\assets\n"
     ]
    },
    {
     "name": "stderr",
     "output_type": "stream",
     "text": [
      "INFO:tensorflow:Assets written to: C:\\Users\\陳奕帆\\AppData\\Local\\Temp\\tmpg3uaca5w\\assets\n"
     ]
    }
   ],
   "source": [
    "converter = tf.lite.TFLiteConverter.from_keras_model(model)\n",
    "converter.optimizations = [tf.lite.Optimize.DEFAULT]\n",
    "converter.target_spec.supported_ops = [tf.lite.OpsSet.TFLITE_BUILTINS_INT8]\n",
    "converter.inference_input_type = tf.int8\n",
    "converter.inference_output_type = tf.int8\n",
    "converter.representative_dataset = representative_data_gen\n",
    "\n",
    "tflite_model_quant_int8 = converter.convert()"
   ]
  },
  {
   "cell_type": "code",
   "execution_count": 44,
   "metadata": {},
   "outputs": [
    {
     "name": "stdout",
     "output_type": "stream",
     "text": [
      "input:  <class 'numpy.int8'>\n",
      "output:  <class 'numpy.int8'>\n"
     ]
    }
   ],
   "source": [
    "interpreter = tf.lite.Interpreter(model_content=tflite_model_quant_int8)\n",
    "input_type = interpreter.get_input_details()[0]['dtype']\n",
    "print('input: ', input_type)\n",
    "output_type = interpreter.get_output_details()[0]['dtype']\n",
    "print('output: ', output_type)"
   ]
  },
  {
   "cell_type": "code",
   "execution_count": 45,
   "metadata": {},
   "outputs": [
    {
     "data": {
      "text/plain": [
       "14608"
      ]
     },
     "execution_count": 45,
     "metadata": {},
     "output_type": "execute_result"
    }
   ],
   "source": [
    "import pathlib\n",
    "\n",
    "tflite_models_dir = pathlib.Path(\"generated/\")\n",
    "tflite_models_dir.mkdir(exist_ok=True, parents=True)\n",
    "\n",
    "tflite_model_quant_file_int8 = tflite_models_dir/\"tflite_model_quant_int8_c.tflite\"\n",
    "tflite_model_quant_file_int8.write_bytes(tflite_model_quant_int8)"
   ]
  },
  {
   "cell_type": "markdown",
   "metadata": {},
   "source": [
    "## Evaluate TensorFlow Lite Quant (int8) Model"
   ]
  },
  {
   "cell_type": "code",
   "execution_count": 46,
   "metadata": {},
   "outputs": [],
   "source": [
    "def evaluate_model(interpreter, X_test, Y_test):\n",
    "#     X_test_data = tf.cast(X_test, tf.float32)\n",
    "\n",
    "    input_index = interpreter.get_input_details()[0][\"index\"]\n",
    "    output_index = interpreter.get_output_details()[0][\"index\"]\n",
    "    scale, zero_point = interpreter.get_input_details()[0]['quantization']\n",
    "\n",
    "    prediction_values = []\n",
    "    \n",
    "    i=0\n",
    "    for test_data in X_test:\n",
    "#         print('Processing '+str(i)+' data');\n",
    "        # Pre-processing: add batch dimension, quantize and convert inputs to int8 to match with\n",
    "        # the model's input data format.\n",
    "        test_data = np.expand_dims(test_data, axis=0)#.astype(interpreter.get_input_details()[0][\"dtype\"])\n",
    "        test_data = np.int8(test_data / scale + zero_point)\n",
    "        interpreter.set_tensor(input_index, test_data)\n",
    "\n",
    "        interpreter.invoke()\n",
    "\n",
    "        # Find the letter with highest probability\n",
    "        output = interpreter.tensor(output_index)\n",
    "#         print(output())\n",
    "        result = np.argmax(output()[0])\n",
    "        prediction_values.append(result)\n",
    "        i = i + 1\n",
    "    \n",
    "    print(prediction_values)\n",
    "    accurate_count = 0\n",
    "    for index in range(len(prediction_values)):\n",
    "        if prediction_values[index] == Y_test[index]:\n",
    "            accurate_count += 1\n",
    "    accuracy = accurate_count * 1.0 / len(prediction_values)\n",
    "\n",
    "    return accuracy * 100"
   ]
  },
  {
   "cell_type": "code",
   "execution_count": 47,
   "metadata": {
    "scrolled": true
   },
   "outputs": [
    {
     "name": "stdout",
     "output_type": "stream",
     "text": [
      "[0, 0, 0, 0, 0, 0, 0, 0, 0, 0, 0, 0, 0, 0, 0, 0, 0, 0, 1, 0, 0, 0, 0, 0, 0, 0, 0, 0, 0, 0, 0, 0, 0, 0, 0, 0, 0, 0, 0, 0, 0, 0, 0, 0, 0, 0, 0, 0, 0, 0, 0, 0, 0, 0, 0, 0, 0, 0, 0, 0, 0, 0, 0, 0, 0, 0, 0, 0, 0, 0, 0, 0, 0, 0, 0, 0, 0, 0, 0, 0, 0, 0, 0, 0, 0, 0, 0, 0, 0, 0, 0, 0, 0, 0, 0, 0, 0, 0, 0, 0, 0, 0, 0, 0, 0, 0, 0, 0, 0, 0, 0, 0, 0, 0, 0, 0, 0, 0, 0, 0, 0, 0, 0, 0, 0, 0, 0, 0, 0, 0, 0, 0, 0, 0, 0, 0, 0, 0, 0, 0, 0, 0, 0, 0, 0, 0, 0, 0, 0, 0, 0, 0, 0, 0, 0, 0, 0, 0, 0, 0, 0, 0, 0, 0, 0, 0, 0, 0, 0, 0, 0, 0, 0, 0, 0, 0, 0, 0, 0, 0, 0, 0, 0, 0, 0, 0, 0, 0, 0, 0, 0, 0, 0, 0, 0, 0, 0, 0, 0, 0, 0, 0, 0, 0, 0, 0, 0, 0, 0, 0, 0, 0, 0, 0, 0, 0, 0, 0, 0, 0, 0, 0, 0, 0, 0, 0, 0, 0, 0, 0, 0, 0, 0, 0, 0, 0, 0, 0, 0, 0, 0, 0, 0, 0, 0, 0, 0, 0, 0, 0, 0, 0, 0, 0, 0, 0, 0, 0, 0, 0, 0, 0, 0, 0, 0, 0, 0, 0, 0, 0, 0, 0, 0, 0, 0, 0, 0, 0, 0, 0, 0, 0, 0, 0, 0, 0, 0, 0, 0, 0, 0, 0, 0, 0, 0, 0, 1, 1, 1, 1, 1, 1, 1, 1, 1, 1, 1, 1, 1, 1, 1, 1, 1, 1, 1, 0, 1, 1, 1, 1, 1, 1, 1, 1, 1, 1, 1, 1, 0, 1, 1, 1, 1, 1, 1, 1, 1, 1, 1, 1, 1, 0, 1, 1, 1, 0]\n",
      "98.55491329479769%\n"
     ]
    }
   ],
   "source": [
    "interpreter = tf.lite.Interpreter(model_path=str(tflite_model_quant_file_int8))\n",
    "interpreter.allocate_tensors()\n",
    "\n",
    "print(str(evaluate_model(interpreter, X_test_reshaped, Y_test[:,1])) + \"%\")"
   ]
  },
  {
   "cell_type": "markdown",
   "metadata": {},
   "source": [
    "<h2> Transfer test data to Cpp"
   ]
  },
  {
   "cell_type": "code",
   "execution_count": 48,
   "metadata": {},
   "outputs": [],
   "source": [
    "# X_test_board.shape, Y_test_board.shape"
   ]
  },
  {
   "cell_type": "code",
   "execution_count": 49,
   "metadata": {},
   "outputs": [],
   "source": [
    "# samples_file = open(\"generated/test_samples_c.cpp\", \"w\")\n",
    "\n",
    "# samples_file.write(\"#include \\\"test_samples.h\\\"\\n\\n\")\n",
    "# samples_file.write(\"const int kNumSamples = \" + str(48) + \";\\n\\n\")\n",
    "\n",
    "# samples = \"\" \n",
    "# samples_array = \"const TestSample_c test_samples_c[kNumSamples] = {\"\n",
    "\n",
    "# for index in range(48):\n",
    "#     data_arr = list(np.ndarray.flatten(X_test_board[index]))\n",
    "#     data_arr = [int(i) for i in data_arr]\n",
    "#     var_name = \"sample\" + str(index+1) + \"c\"\n",
    "#     samples += \"TestSample_c \" + var_name + \" = {\\n\" #+ \"[IMAGE_SIZE] = { \"\n",
    "#     samples += \"\\t.label = \" + str(int(Y_test_board[index])) + \",\\n\" \n",
    "#     samples += \"\\t.image = {\\n\"\n",
    "#     wrapped_arr = [data_arr[i:i + 10] for i in range(0, len(data_arr), 10)]\n",
    "#     for sub_arr in wrapped_arr:\n",
    "#         samples += \"\\t\\t\" + str(sub_arr)\n",
    "#     samples += \"\\t}\\n};\\n\\n\"    \n",
    "#     samples_array += var_name + \", \"\n",
    "    \n",
    "# samples = samples.replace(\"[\", \"\")\n",
    "# samples = samples.replace(\"]\", \",\\n\")\n",
    "# samples_array += \"};\\n\"\n",
    "\n",
    "# samples_file.write(samples);\n",
    "# samples_file.write(samples_array);\n",
    "# samples_file.close()"
   ]
  },
  {
   "cell_type": "code",
   "execution_count": 50,
   "metadata": {},
   "outputs": [],
   "source": [
    "# samples_file = open(\"generated/test_samples_2.cpp\", \"w\")\n",
    "\n",
    "# samples_file.write(\"#include \\\"test_samples.h\\\"\\n\\n\")\n",
    "# samples_file.write(\"const int kNumSamples = \" + str(X_test_reshaped.shape[0]) + \";\\n\\n\")\n",
    "\n",
    "# samples = \"\" \n",
    "# samples_array = \"const TestSample_c test_samples_c[kNumSamples] = {\"\n",
    "\n",
    "# for index in range(X_test_reshaped.shape[0]):\n",
    "#     data_arr = list(np.ndarray.flatten(X_test_reshaped[index]))\n",
    "#     data_arr = [int(i) for i in data_arr]\n",
    "#     var_name = \"sample\" + str(index+1)\n",
    "#     samples += \"TestSample_c \" + var_name + \" = {\\n\" #+ \"[IMAGE_SIZE] = { \"\n",
    "#     samples += \"\\t.label = \" + str(int(Y_test[index,1])) + \",\\n\" \n",
    "#     samples += \"\\t.image = {\\n\"\n",
    "#     wrapped_arr = [data_arr[i:i + 10] for i in range(0, len(data_arr), 10)]\n",
    "#     for sub_arr in wrapped_arr:\n",
    "#         samples += \"\\t\\t\" + str(sub_arr)\n",
    "#     samples += \"\\t}\\n};\\n\\n\"    \n",
    "#     samples_array += var_name + \", \"\n",
    "    \n",
    "# samples = samples.replace(\"[\", \"\")\n",
    "# samples = samples.replace(\"]\", \",\\n\")\n",
    "# samples_array += \"};\\n\"\n",
    "\n",
    "# samples_file.write(samples);\n",
    "# samples_file.write(samples_array);\n",
    "# samples_file.close()"
   ]
  },
  {
   "cell_type": "code",
   "execution_count": null,
   "metadata": {},
   "outputs": [],
   "source": []
  },
  {
   "cell_type": "markdown",
   "metadata": {},
   "source": [
    "<h2>元中的數據"
   ]
  },
  {
   "cell_type": "code",
   "execution_count": 51,
   "metadata": {},
   "outputs": [],
   "source": [
    "yu = pd.read_csv('./dataset/test_data.txt', header=None)\n",
    "yu = yu.T.to_numpy().reshape(-1)"
   ]
  },
  {
   "cell_type": "code",
   "execution_count": 52,
   "metadata": {},
   "outputs": [],
   "source": [
    "yu = yu[-370:]"
   ]
  },
  {
   "cell_type": "code",
   "execution_count": 53,
   "metadata": {},
   "outputs": [
    {
     "data": {
      "text/plain": [
       "[<matplotlib.lines.Line2D at 0x2987770c940>]"
      ]
     },
     "execution_count": 53,
     "metadata": {},
     "output_type": "execute_result"
    },
    {
     "data": {
      "image/png": "[encoded data removed]",
      "text/plain": [
       "<Figure size 432x288 with 1 Axes>"
      ]
     },
     "metadata": {
      "needs_background": "light"
     },
     "output_type": "display_data"
    }
   ],
   "source": [
    "plot_yu = yu.reshape(-1)\n",
    "plt.plot(plot_yu)"
   ]
  },
  {
   "cell_type": "code",
   "execution_count": 54,
   "metadata": {},
   "outputs": [],
   "source": [
    "yu = yu.reshape(1, 370, 1, 1)"
   ]
  },
  {
   "cell_type": "code",
   "execution_count": 55,
   "metadata": {},
   "outputs": [
    {
     "name": "stdout",
     "output_type": "stream",
     "text": [
      "[1]\n",
      "0.0%\n"
     ]
    }
   ],
   "source": [
    "interpreter = tf.lite.Interpreter(model_path=str(tflite_model_quant_file_int8))\n",
    "interpreter.allocate_tensors()\n",
    "\n",
    "print(str(evaluate_model(interpreter, yu, [0])) + \"%\")"
   ]
  }
 ],
 "metadata": {
  "colab": {
   "collapsed_sections": [],
   "name": "CNN_Covid.ipynb",
   "provenance": []
  },
  "kernelspec": {
   "display_name": "Python 3 (ipykernel)",
   "language": "python",
   "name": "python3"
  },
  "language_info": {
   "codemirror_mode": {
    "name": "ipython",
    "version": 3
   },
   "file_extension": ".py",
   "mimetype": "text/x-python",
   "name": "python",
   "nbconvert_exporter": "python",
   "pygments_lexer": "ipython3",
   "version": "3.8.13"
  },
  "vscode": {
   "interpreter": {
    "hash": "3cd6af004486e18d8cd1b1dc71eb6e14b35da0a003c4531af785de1b844902cc"
   }
  }
 },
 "nbformat": 4,
 "nbformat_minor": 1
}
